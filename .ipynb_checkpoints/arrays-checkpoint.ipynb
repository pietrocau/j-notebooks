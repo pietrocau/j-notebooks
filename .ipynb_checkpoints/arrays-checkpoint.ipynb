{
 "cells": [
  {
   "cell_type": "markdown",
   "metadata": {},
   "source": [
    "## Arrays\n"
   ]
  },
  {
   "cell_type": "code",
   "execution_count": 1,
   "metadata": {},
   "outputs": [],
   "source": [
    "class Array:\n",
    "    \n",
    "    def __init__(self, arg):#initialize an array from an existing python list or as an empty array of a given size\n",
    "        if type(arg) == list:\n",
    "            self.length = len(arg)\n",
    "            self.elements = arg\n",
    "        elif type(arg) == int:\n",
    "            assert arg >= 1, \"Array size can't be less than 1.\"\n",
    "            self.length = arg\n",
    "            self.elements = [0]*arg #default value will be 0\n",
    "        else:\n",
    "            raise ValueError(\"Can only init array with an int or a list.\")\n",
    "    \n",
    "    def __repr__(self):\n",
    "        s =\"[\"\n",
    "        for i in range(self.length-1):\n",
    "            s += (str(self.elements[i])+\", \")\n",
    "        s+=str(self.elements[-1])+\"]\"\n",
    "        return s\n",
    "    \n",
    "    def set(self,index,value): #set the element in position index to be value\n",
    "        assert 0<=index<self.length, \"Index out of bounds.\"\n",
    "        self.elements[index] = value\n",
    "        \n",
    "    def get(self,index): #returns the value in position index\n",
    "        assert 0<=index<self.length, \"Index out of bounds.\"\n",
    "        return self.elements[index]\n",
    "    \n",
    "    def slice(self,start,end):#return a subarray from start index (included) to end index (excluded)\n",
    "        assert 0<=start<self.length, \"Invalid slice start.\"\n",
    "        assert 0<end<=self.length, \"Invalid slice end.\"\n",
    "        l = self.elements[start:end]\n",
    "        a = Array(l)\n",
    "        return a\n",
    "    \n",
    "    def min(self): #returns the min element of the array\n",
    "        return min(self.elements)\n",
    "    \n",
    "    def max(self): #returns the max element of the array\n",
    "        return max(self.elements)\n",
    "    \n",
    "    def copy(self): #returns another array with the same elements\n",
    "        l = self.elements.copy()\n",
    "        a = Array(l)\n",
    "        return a\n",
    "        \n",
    "    def toPList(self): #returns a python list with the same elements, avoid using it\n",
    "        return self.elements"
   ]
  },
  {
   "cell_type": "markdown",
   "metadata": {},
   "source": [
    "## Searching"
   ]
  },
  {
   "cell_type": "code",
   "execution_count": 39,
   "metadata": {},
   "outputs": [],
   "source": [
    "def linearSearch(a,v): #search value v in array a\n",
    "    for i in range(a.length):\n",
    "        if a.get(i) == v:\n",
    "            return i\n",
    "    return -1"
   ]
  },
  {
   "cell_type": "markdown",
   "metadata": {},
   "source": [
    "## Sorting"
   ]
  },
  {
   "cell_type": "code",
   "execution_count": 66,
   "metadata": {},
   "outputs": [],
   "source": [
    "def insertionSort(a): #returns a sorted version of array a using insertion sort\n",
    "    for i in range(1,a.length):\n",
    "        k = a.get(i)\n",
    "        j = i-1\n",
    "        while j>=0 and a.get(j)>k:\n",
    "            a.set(j+1,a.get(j))\n",
    "            j-=1\n",
    "        a.set(j+1,k)\n",
    "    return a.copy()"
   ]
  },
  {
   "cell_type": "code",
   "execution_count": 54,
   "metadata": {},
   "outputs": [],
   "source": [
    "def mergeSort(a): #returns a sorted version of array a using merge sort\n",
    "    if(a.length==1):\n",
    "        return a\n",
    "    m = int(a.length/2)\n",
    "    left = mergeSort(a.slice(0,m))\n",
    "    right = mergeSort(a.slice(m,a.length))\n",
    "    return merge(left,right)\n",
    "    \n",
    "    \n",
    "def merge(a,b): #merges two sorted arrays a and b\n",
    "    ma = Array(a.length+b.length) #merged array\n",
    "    i=j=c=0\n",
    "    while(i<a.length and j<b.length):\n",
    "        if(a.get(i)>=b.get(j)):\n",
    "            ma.set(c,b.get(j))\n",
    "            j+=1\n",
    "        else:\n",
    "            ma.set(c,a.get(i))\n",
    "            i+=1\n",
    "        c+=1\n",
    "    while(i<a.length):\n",
    "        ma.set(c,a.get(i))\n",
    "        i+=1\n",
    "        c+=1\n",
    "    while(j<b.length):\n",
    "        ma.set(c,b.get(j))\n",
    "        j+=1\n",
    "        c+=1\n",
    "    return ma"
   ]
  },
  {
   "cell_type": "code",
   "execution_count": 2,
   "metadata": {},
   "outputs": [],
   "source": [
    "def selectionSort(a): #returns a sorted version of array a using selection sort\n",
    "    a = a.copy()\n",
    "    for i in range(a.length):\n",
    "        mn = i\n",
    "        for j in range(i+1,a.length):\n",
    "            if(a.get(j)<a.get(mn)):\n",
    "                mn = j\n",
    "        tmp = a.get(i)\n",
    "        a.set(i,a.get(mn))\n",
    "        a.set(mn,tmp)\n",
    "    return a\n",
    "        "
   ]
  },
  {
   "cell_type": "code",
   "execution_count": 8,
   "metadata": {},
   "outputs": [],
   "source": [
    "def bubbleSort(a): #returns a sorted version of array a using bubble sort\n",
    "    a = a.copy()\n",
    "    swap = True\n",
    "    while(swap):\n",
    "        swap = False\n",
    "        for i in range(a.length-1):\n",
    "            if(a.get(i)>a.get(i+1)):\n",
    "                tmp = a.get(i)\n",
    "                a.set(i,a.get(i+1))\n",
    "                a.set(i+1,tmp)\n",
    "                swap = True\n",
    "    return a"
   ]
  },
  {
   "cell_type": "markdown",
   "metadata": {},
   "source": [
    "### Other"
   ]
  },
  {
   "cell_type": "code",
   "execution_count": 4,
   "metadata": {},
   "outputs": [],
   "source": [
    "from random import randint\n",
    "\n",
    "def randomArray(n,mn,mx): #returns an array of length n, containing random ints in the range mn-mx\n",
    "    l = list()\n",
    "    for i in range(n):\n",
    "        l.append(randint(mn,mx))\n",
    "    return Array(l)\n"
   ]
  },
  {
   "cell_type": "markdown",
   "metadata": {},
   "source": [
    "## Testing"
   ]
  },
  {
   "cell_type": "markdown",
   "metadata": {},
   "source": [
    "Array basics"
   ]
  },
  {
   "cell_type": "code",
   "execution_count": 20,
   "metadata": {
    "collapsed": true
   },
   "outputs": [
    {
     "name": "stdout",
     "output_type": "stream",
     "text": [
      "[0, 10, 0, 0]\n",
      "3\n"
     ]
    }
   ],
   "source": [
    "a = Array(4)\n",
    "b = Array([1,2,3,4])\n",
    "a.set(1,10)\n",
    "print(a)\n",
    "print(b.get(2))"
   ]
  },
  {
   "cell_type": "markdown",
   "metadata": {},
   "source": [
    "Insertion Sort"
   ]
  },
  {
   "cell_type": "code",
   "execution_count": 67,
   "metadata": {
    "collapsed": true
   },
   "outputs": [
    {
     "name": "stdout",
     "output_type": "stream",
     "text": [
      "[8, 2, 8, 7, 4, 0, 2, 1, 6, 5]\n",
      "[0, 1, 2, 2, 4, 5, 6, 7, 8, 8]\n"
     ]
    }
   ],
   "source": [
    "a = randomArray(10,0,10)\n",
    "print(a)\n",
    "a = insertionSort(a)\n",
    "print(a)"
   ]
  },
  {
   "cell_type": "markdown",
   "metadata": {},
   "source": [
    "Merge Sort"
   ]
  },
  {
   "cell_type": "code",
   "execution_count": 61,
   "metadata": {
    "collapsed": true
   },
   "outputs": [
    {
     "name": "stdout",
     "output_type": "stream",
     "text": [
      "[5, 5, 9, 2, 10, 8, 4, 6, 1, 6]\n",
      "[1, 2, 4, 5, 5, 6, 6, 8, 9, 10]\n"
     ]
    }
   ],
   "source": [
    "a = randomArray(10,0,10)\n",
    "print(a)\n",
    "a = mergeSort(a)\n",
    "print(a)"
   ]
  },
  {
   "cell_type": "markdown",
   "metadata": {},
   "source": [
    "### Time comparisons between insertion and merge\n",
    "we can see that with small arrays isertion is faster than merge, but as soon as the arrays satart to grow, merge is considerably faster than insertion"
   ]
  },
  {
   "cell_type": "code",
   "execution_count": 85,
   "metadata": {
    "collapsed": true
   },
   "outputs": [
    {
     "name": "stdout",
     "output_type": "stream",
     "text": [
      "Sorting 10 elements\n",
      "Insertion sort:\n",
      "38.5 µs ± 1.36 µs per loop (mean ± std. dev. of 7 runs, 10000 loops each)\n",
      "Merge sort:\n",
      "70.9 µs ± 431 ns per loop (mean ± std. dev. of 7 runs, 10000 loops each)\n"
     ]
    }
   ],
   "source": [
    "print(\"Sorting 10 elements\")\n",
    "print(\"Insertion sort:\")\n",
    "%timeit insertionSort(randomArray(10,0,10000))\n",
    "print(\"Merge sort:\")\n",
    "%timeit mergeSort(randomArray(10,0,10000))"
   ]
  },
  {
   "cell_type": "code",
   "execution_count": 86,
   "metadata": {
    "collapsed": true
   },
   "outputs": [
    {
     "name": "stdout",
     "output_type": "stream",
     "text": [
      "Sorting 1000 elements\n",
      "Insertion sort:\n",
      "186 ms ± 994 µs per loop (mean ± std. dev. of 7 runs, 10 loops each)\n",
      "Merge sort:\n",
      "13.6 ms ± 44.9 µs per loop (mean ± std. dev. of 7 runs, 100 loops each)\n"
     ]
    }
   ],
   "source": [
    "print(\"Sorting 1000 elements\")\n",
    "print(\"Insertion sort:\")\n",
    "%timeit insertionSort(randomArray(1000,0,10000))\n",
    "print(\"Merge sort:\")\n",
    "%timeit mergeSort(randomArray(1000,0,10000))"
   ]
  },
  {
   "cell_type": "code",
   "execution_count": 6,
   "metadata": {
    "collapsed": true
   },
   "outputs": [
    {
     "name": "stdout",
     "output_type": "stream",
     "text": [
      "[2, 1, 3, 2, 5, 3, 6, 8, 2, 0]\n",
      "[0, 1, 2, 2, 2, 3, 3, 5, 6, 8]\n"
     ]
    }
   ],
   "source": [
    "a = randomArray(10,0,10)\n",
    "print(a)\n",
    "a = selectionSort(a)\n",
    "print(a)"
   ]
  },
  {
   "cell_type": "code",
   "execution_count": 9,
   "metadata": {},
   "outputs": [
    {
     "name": "stdout",
     "output_type": "stream",
     "text": [
      "[4, 7, 4, 8, 4, 9, 3, 3, 7, 1]\n",
      "[1, 3, 3, 4, 4, 4, 7, 7, 8, 9]\n"
     ]
    }
   ],
   "source": [
    "a = randomArray(10,0,10)\n",
    "print(a)\n",
    "a = bubbleSort(a)\n",
    "print(a)"
   ]
  },
  {
   "cell_type": "code",
   "execution_count": null,
   "metadata": {},
   "outputs": [],
   "source": []
  }
 ],
 "metadata": {
  "kernelspec": {
   "display_name": "Python 3",
   "language": "python",
   "name": "python3"
  },
  "language_info": {
   "codemirror_mode": {
    "name": "ipython",
    "version": 3
   },
   "file_extension": ".py",
   "mimetype": "text/x-python",
   "name": "python",
   "nbconvert_exporter": "python",
   "pygments_lexer": "ipython3",
   "version": "3.7.1"
  }
 },
 "nbformat": 4,
 "nbformat_minor": 4
}
