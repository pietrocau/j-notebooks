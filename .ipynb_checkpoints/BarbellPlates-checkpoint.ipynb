{
 "cells": [
  {
   "cell_type": "code",
   "execution_count": 81,
   "metadata": {},
   "outputs": [
    {
     "data": {
      "text/plain": [
       "{10: 4, 5: 1, 2: 4, 1: 5, 0.5: 1}"
      ]
     },
     "execution_count": 81,
     "metadata": {},
     "output_type": "execute_result"
    }
   ],
   "source": [
    "plates = {10:4,5:1,2:4,1:5,0.5:1} #massimo caricabile su ogni lato\n",
    "plates"
   ]
  },
  {
   "cell_type": "code",
   "execution_count": 78,
   "metadata": {},
   "outputs": [],
   "source": [
    "BAR_WEIGTH = 7\n",
    "def getPlates(target):\n",
    "    if(target<BAR_WEIGTH):\n",
    "        return (\"Peso non raggiungibile.\")\n",
    "    if(target == BAR_WEIGTH):\n",
    "        return (\"Solo bilacere.\")\n",
    "    target = target - BAR_WEIGTH #peso della sbarra\n",
    "    target = target/2 #piatti per lato\n",
    "    p = list()\n",
    "    c = 0\n",
    "    for w,q in plates.items():\n",
    "        diff = target-sum(p)\n",
    "        if(diff>=w):\n",
    "            n = int(diff//w)\n",
    "            if(n>q):\n",
    "                n=q\n",
    "            p+=[w]*n\n",
    "\n",
    "    if(sum(p)==target):\n",
    "        return (\"metti \"+str(p)+\" (Per lato).\")\n",
    "    else:\n",
    "        return (\"Peso non raggiungibile.\")"
   ]
  },
  {
   "cell_type": "code",
   "execution_count": 79,
   "metadata": {},
   "outputs": [
    {
     "data": {
      "text/plain": [
       "'metti [10, 10, 5, 2, 2] (Per lato).'"
      ]
     },
     "execution_count": 79,
     "metadata": {},
     "output_type": "execute_result"
    }
   ],
   "source": [
    "getPlates(65)"
   ]
  },
  {
   "cell_type": "code",
   "execution_count": 82,
   "metadata": {},
   "outputs": [
    {
     "name": "stdout",
     "output_type": "stream",
     "text": [
      "7 Solo bilacere.\n",
      "8 metti [0.5] (Per lato).\n",
      "9 metti [1] (Per lato).\n",
      "10 metti [1, 0.5] (Per lato).\n",
      "11 metti [2] (Per lato).\n",
      "12 metti [2, 0.5] (Per lato).\n",
      "13 metti [2, 1] (Per lato).\n",
      "14 metti [2, 1, 0.5] (Per lato).\n",
      "15 metti [2, 2] (Per lato).\n",
      "16 metti [2, 2, 0.5] (Per lato).\n",
      "17 metti [5] (Per lato).\n",
      "18 metti [5, 0.5] (Per lato).\n",
      "19 metti [5, 1] (Per lato).\n",
      "20 metti [5, 1, 0.5] (Per lato).\n",
      "21 metti [5, 2] (Per lato).\n",
      "22 metti [5, 2, 0.5] (Per lato).\n",
      "23 metti [5, 2, 1] (Per lato).\n",
      "24 metti [5, 2, 1, 0.5] (Per lato).\n",
      "25 metti [5, 2, 2] (Per lato).\n",
      "26 metti [5, 2, 2, 0.5] (Per lato).\n",
      "27 metti [10] (Per lato).\n",
      "28 metti [10, 0.5] (Per lato).\n",
      "29 metti [10, 1] (Per lato).\n",
      "30 metti [10, 1, 0.5] (Per lato).\n",
      "31 metti [10, 2] (Per lato).\n",
      "32 metti [10, 2, 0.5] (Per lato).\n",
      "33 metti [10, 2, 1] (Per lato).\n",
      "34 metti [10, 2, 1, 0.5] (Per lato).\n",
      "35 metti [10, 2, 2] (Per lato).\n",
      "36 metti [10, 2, 2, 0.5] (Per lato).\n",
      "37 metti [10, 5] (Per lato).\n",
      "38 metti [10, 5, 0.5] (Per lato).\n",
      "39 metti [10, 5, 1] (Per lato).\n",
      "40 metti [10, 5, 1, 0.5] (Per lato).\n",
      "41 metti [10, 5, 2] (Per lato).\n",
      "42 metti [10, 5, 2, 0.5] (Per lato).\n",
      "43 metti [10, 5, 2, 1] (Per lato).\n",
      "44 metti [10, 5, 2, 1, 0.5] (Per lato).\n",
      "45 metti [10, 5, 2, 2] (Per lato).\n",
      "46 metti [10, 5, 2, 2, 0.5] (Per lato).\n",
      "47 metti [10, 10] (Per lato).\n",
      "48 metti [10, 10, 0.5] (Per lato).\n",
      "49 metti [10, 10, 1] (Per lato).\n",
      "50 metti [10, 10, 1, 0.5] (Per lato).\n",
      "51 metti [10, 10, 2] (Per lato).\n",
      "52 metti [10, 10, 2, 0.5] (Per lato).\n",
      "53 metti [10, 10, 2, 1] (Per lato).\n",
      "54 metti [10, 10, 2, 1, 0.5] (Per lato).\n",
      "55 metti [10, 10, 2, 2] (Per lato).\n",
      "56 metti [10, 10, 2, 2, 0.5] (Per lato).\n",
      "57 metti [10, 10, 5] (Per lato).\n",
      "58 metti [10, 10, 5, 0.5] (Per lato).\n",
      "59 metti [10, 10, 5, 1] (Per lato).\n",
      "60 metti [10, 10, 5, 1, 0.5] (Per lato).\n",
      "61 metti [10, 10, 5, 2] (Per lato).\n",
      "62 metti [10, 10, 5, 2, 0.5] (Per lato).\n",
      "63 metti [10, 10, 5, 2, 1] (Per lato).\n",
      "64 metti [10, 10, 5, 2, 1, 0.5] (Per lato).\n",
      "65 metti [10, 10, 5, 2, 2] (Per lato).\n",
      "66 metti [10, 10, 5, 2, 2, 0.5] (Per lato).\n",
      "67 metti [10, 10, 10] (Per lato).\n",
      "68 metti [10, 10, 10, 0.5] (Per lato).\n",
      "69 metti [10, 10, 10, 1] (Per lato).\n",
      "70 metti [10, 10, 10, 1, 0.5] (Per lato).\n",
      "71 metti [10, 10, 10, 2] (Per lato).\n",
      "72 metti [10, 10, 10, 2, 0.5] (Per lato).\n",
      "73 metti [10, 10, 10, 2, 1] (Per lato).\n",
      "74 metti [10, 10, 10, 2, 1, 0.5] (Per lato).\n",
      "75 metti [10, 10, 10, 2, 2] (Per lato).\n",
      "76 metti [10, 10, 10, 2, 2, 0.5] (Per lato).\n",
      "77 metti [10, 10, 10, 5] (Per lato).\n",
      "78 metti [10, 10, 10, 5, 0.5] (Per lato).\n",
      "79 metti [10, 10, 10, 5, 1] (Per lato).\n",
      "80 metti [10, 10, 10, 5, 1, 0.5] (Per lato).\n",
      "81 metti [10, 10, 10, 5, 2] (Per lato).\n",
      "82 metti [10, 10, 10, 5, 2, 0.5] (Per lato).\n",
      "83 metti [10, 10, 10, 5, 2, 1] (Per lato).\n",
      "84 metti [10, 10, 10, 5, 2, 1, 0.5] (Per lato).\n",
      "85 metti [10, 10, 10, 5, 2, 2] (Per lato).\n",
      "86 metti [10, 10, 10, 5, 2, 2, 0.5] (Per lato).\n",
      "87 metti [10, 10, 10, 10] (Per lato).\n",
      "88 metti [10, 10, 10, 10, 0.5] (Per lato).\n",
      "89 metti [10, 10, 10, 10, 1] (Per lato).\n",
      "90 metti [10, 10, 10, 10, 1, 0.5] (Per lato).\n",
      "91 metti [10, 10, 10, 10, 2] (Per lato).\n",
      "92 metti [10, 10, 10, 10, 2, 0.5] (Per lato).\n",
      "93 metti [10, 10, 10, 10, 2, 1] (Per lato).\n",
      "94 metti [10, 10, 10, 10, 2, 1, 0.5] (Per lato).\n",
      "95 metti [10, 10, 10, 10, 2, 2] (Per lato).\n",
      "96 metti [10, 10, 10, 10, 2, 2, 0.5] (Per lato).\n",
      "97 metti [10, 10, 10, 10, 5] (Per lato).\n",
      "98 metti [10, 10, 10, 10, 5, 0.5] (Per lato).\n",
      "99 metti [10, 10, 10, 10, 5, 1] (Per lato).\n",
      "100 metti [10, 10, 10, 10, 5, 1, 0.5] (Per lato).\n",
      "101 metti [10, 10, 10, 10, 5, 2] (Per lato).\n",
      "102 metti [10, 10, 10, 10, 5, 2, 0.5] (Per lato).\n",
      "103 metti [10, 10, 10, 10, 5, 2, 1] (Per lato).\n",
      "104 metti [10, 10, 10, 10, 5, 2, 1, 0.5] (Per lato).\n",
      "105 metti [10, 10, 10, 10, 5, 2, 2] (Per lato).\n",
      "106 metti [10, 10, 10, 10, 5, 2, 2, 0.5] (Per lato).\n",
      "107 metti [10, 10, 10, 10, 5, 2, 2, 1] (Per lato).\n",
      "108 metti [10, 10, 10, 10, 5, 2, 2, 1, 0.5] (Per lato).\n",
      "109 metti [10, 10, 10, 10, 5, 2, 2, 2] (Per lato).\n",
      "110 metti [10, 10, 10, 10, 5, 2, 2, 2, 0.5] (Per lato).\n",
      "111 metti [10, 10, 10, 10, 5, 2, 2, 2, 1] (Per lato).\n",
      "112 metti [10, 10, 10, 10, 5, 2, 2, 2, 1, 0.5] (Per lato).\n",
      "113 metti [10, 10, 10, 10, 5, 2, 2, 2, 2] (Per lato).\n",
      "114 metti [10, 10, 10, 10, 5, 2, 2, 2, 2, 0.5] (Per lato).\n",
      "115 metti [10, 10, 10, 10, 5, 2, 2, 2, 2, 1] (Per lato).\n",
      "116 metti [10, 10, 10, 10, 5, 2, 2, 2, 2, 1, 0.5] (Per lato).\n",
      "117 metti [10, 10, 10, 10, 5, 2, 2, 2, 2, 1, 1] (Per lato).\n",
      "118 metti [10, 10, 10, 10, 5, 2, 2, 2, 2, 1, 1, 0.5] (Per lato).\n",
      "119 metti [10, 10, 10, 10, 5, 2, 2, 2, 2, 1, 1, 1] (Per lato).\n",
      "120 metti [10, 10, 10, 10, 5, 2, 2, 2, 2, 1, 1, 1, 0.5] (Per lato).\n",
      "121 metti [10, 10, 10, 10, 5, 2, 2, 2, 2, 1, 1, 1, 1] (Per lato).\n",
      "122 metti [10, 10, 10, 10, 5, 2, 2, 2, 2, 1, 1, 1, 1, 0.5] (Per lato).\n",
      "123 metti [10, 10, 10, 10, 5, 2, 2, 2, 2, 1, 1, 1, 1, 1] (Per lato).\n",
      "124 metti [10, 10, 10, 10, 5, 2, 2, 2, 2, 1, 1, 1, 1, 1, 0.5] (Per lato).\n",
      "125 Peso non raggiungibile.\n",
      "126 Peso non raggiungibile.\n",
      "127 Peso non raggiungibile.\n",
      "128 Peso non raggiungibile.\n",
      "129 Peso non raggiungibile.\n",
      "130 Peso non raggiungibile.\n",
      "131 Peso non raggiungibile.\n",
      "132 Peso non raggiungibile.\n",
      "133 Peso non raggiungibile.\n",
      "134 Peso non raggiungibile.\n",
      "135 Peso non raggiungibile.\n",
      "136 Peso non raggiungibile.\n",
      "137 Peso non raggiungibile.\n",
      "138 Peso non raggiungibile.\n",
      "139 Peso non raggiungibile.\n",
      "140 Peso non raggiungibile.\n",
      "141 Peso non raggiungibile.\n",
      "142 Peso non raggiungibile.\n",
      "143 Peso non raggiungibile.\n",
      "144 Peso non raggiungibile.\n",
      "145 Peso non raggiungibile.\n",
      "146 Peso non raggiungibile.\n",
      "147 Peso non raggiungibile.\n",
      "148 Peso non raggiungibile.\n",
      "149 Peso non raggiungibile.\n"
     ]
    }
   ],
   "source": [
    "for i in range(7,150):\n",
    "    print(i,getPlates(i))"
   ]
  },
  {
   "cell_type": "code",
   "execution_count": null,
   "metadata": {},
   "outputs": [],
   "source": []
  },
  {
   "cell_type": "code",
   "execution_count": null,
   "metadata": {},
   "outputs": [],
   "source": []
  }
 ],
 "metadata": {
  "kernelspec": {
   "display_name": "Python 3",
   "language": "python",
   "name": "python3"
  },
  "language_info": {
   "codemirror_mode": {
    "name": "ipython",
    "version": 3
   },
   "file_extension": ".py",
   "mimetype": "text/x-python",
   "name": "python",
   "nbconvert_exporter": "python",
   "pygments_lexer": "ipython3",
   "version": "3.7.6"
  }
 },
 "nbformat": 4,
 "nbformat_minor": 4
}
