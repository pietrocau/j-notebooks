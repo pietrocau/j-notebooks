{
 "cells": [
  {
   "cell_type": "markdown",
   "metadata": {},
   "source": [
    "## Arrays\n"
   ]
  },
  {
   "cell_type": "code",
   "execution_count": 29,
   "metadata": {},
   "outputs": [],
   "source": [
    "class Array:\n",
    "    \n",
    "    def __init__(self, arg):\n",
    "        if type(arg) == list: #define from an existing list\n",
    "            self.length = len(arg)\n",
    "            self.elements = arg\n",
    "        elif type(arg) == int: #define empty of given size\n",
    "            assert arg >= 1, \"Array size can't be less than 1.\"\n",
    "            self.length = arg\n",
    "            self.elements = [0]*arg #default value will be 0\n",
    "        else:\n",
    "            raise ValueError(\"Can only init array with an int or a list.\")\n",
    "    \n",
    "    def __repr__(self):\n",
    "        s =\"[\"\n",
    "        for i in range(self.length-1):\n",
    "            s += (str(self.elements[i])+\", \")\n",
    "        s+=str(self.elements[-1])+\"]\"\n",
    "        return s\n",
    "    \n",
    "    def set(self,index,value):\n",
    "        assert 0<=index<self.length, \"Index out of bounds.\"\n",
    "        self.elements[index] = value\n",
    "        \n",
    "    def get(self,index):\n",
    "        assert 0<=index<self.length, \"Index out of bounds.\"\n",
    "        return self.elements[index]"
   ]
  },
  {
   "cell_type": "markdown",
   "metadata": {},
   "source": [
    "## Searching"
   ]
  },
  {
   "cell_type": "code",
   "execution_count": 39,
   "metadata": {},
   "outputs": [],
   "source": [
    "def linearSearch(a,v): #search value v in array a\n",
    "    for i in range(a.length):\n",
    "        if a.get(i) == v:\n",
    "            return i\n",
    "    return -1"
   ]
  },
  {
   "cell_type": "markdown",
   "metadata": {},
   "source": [
    "## Sorting"
   ]
  },
  {
   "cell_type": "code",
   "execution_count": 42,
   "metadata": {},
   "outputs": [],
   "source": [
    "def insertionSort(a): #sorts array a\n",
    "    for i in range(1,a.length):\n",
    "        k = a.get(i)\n",
    "        j = i-1\n",
    "        while j>=0 and a.get(j)>k:\n",
    "            a.set(j+1,a.get(j))\n",
    "            j-=1\n",
    "        a.set(j+1,k)"
   ]
  },
  {
   "cell_type": "markdown",
   "metadata": {},
   "source": [
    "## Other"
   ]
  },
  {
   "cell_type": "code",
   "execution_count": 43,
   "metadata": {},
   "outputs": [],
   "source": [
    "from random import randint\n",
    "\n",
    "def randomArray(size,mn,mx):\n",
    "    l = list()\n",
    "    for i in range(size):\n",
    "        l.append(randint(mn,mx))\n",
    "    return Array(l)"
   ]
  },
  {
   "cell_type": "markdown",
   "metadata": {},
   "source": [
    "## Testing"
   ]
  },
  {
   "cell_type": "code",
   "execution_count": 46,
   "metadata": {},
   "outputs": [
    {
     "data": {
      "text/plain": [
       "3"
      ]
     },
     "execution_count": 46,
     "metadata": {},
     "output_type": "execute_result"
    }
   ],
   "source": [
    "a = Array(4)\n",
    "b = Array([1,2,3,4])\n",
    "a.set(1,3)\n",
    "a.get(1)"
   ]
  },
  {
   "cell_type": "code",
   "execution_count": 47,
   "metadata": {},
   "outputs": [
    {
     "name": "stdout",
     "output_type": "stream",
     "text": [
      "[8, 8, 7, 7, 8, 6, 10, 6, 7, 6]\n",
      "[6, 6, 6, 7, 7, 7, 8, 8, 8, 10]\n"
     ]
    }
   ],
   "source": [
    "a = randomArray(10,0,10)\n",
    "print(a)\n",
    "insertionSort(a)\n",
    "print(a)"
   ]
  },
  {
   "cell_type": "code",
   "execution_count": null,
   "metadata": {},
   "outputs": [],
   "source": []
  }
 ],
 "metadata": {
  "kernelspec": {
   "display_name": "Python 3",
   "language": "python",
   "name": "python3"
  },
  "language_info": {
   "codemirror_mode": {
    "name": "ipython",
    "version": 3
   },
   "file_extension": ".py",
   "mimetype": "text/x-python",
   "name": "python",
   "nbconvert_exporter": "python",
   "pygments_lexer": "ipython3",
   "version": "3.7.6"
  }
 },
 "nbformat": 4,
 "nbformat_minor": 4
}
